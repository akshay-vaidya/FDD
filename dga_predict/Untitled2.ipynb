{
 "cells": [
  {
   "cell_type": "code",
   "execution_count": null,
   "metadata": {
    "collapsed": true
   },
   "outputs": [],
   "source": [
    "import numpy as np\n",
    "import pandas as pd\n",
    "import theano\n",
    "import theano.tensor as T\n",
    "import lasagne\n",
    "\n",
    "dataset = pd.read_csv('dataset_all.csv', sep = ',')\n",
    "dataset.head()\n",
    "\n",
    "chars = dataset['domain'].tolist()\n",
    "chars = ''.join(chars)\n",
    "chars = list(set(chars))\n",
    "\n",
    "labels = dataset['class'].tolist()\n",
    "\n",
    "# Translating\n",
    "char_to_ix = { ch:i for i,ch in enumerate(chars) }\n",
    "ix_to_char = { i:ch for i,ch in enumerate(chars) }\n",
    "class_to_y = { cl:i for i,cl in enumerate(classes) }\n",
    "\n",
    "NUM_VOCAB = len(chars)\n",
    "NUM_CLASS = len(classes)\n",
    "NUM_CHARS = 75\n",
    "\n",
    "N = len(dataset.index)\n",
    "X = np.zeros((N, NUM_CHARS)).astype('int32')\n",
    "M = np.zeros((N, NUM_CHARS)).astype('float32')\n",
    "Y = np.zeros(N).astype('int32')\n",
    "\n",
    "for i, r in dataset.iterrows():\n",
    "    inputs = [char_to_ix[ch] for ch in r['domain']]\n",
    "    length = len(inputs)\n",
    "    X[i,:length] = np.array(inputs)\n",
    "\n",
    "Y = [0 if x == 'legit' else 1 for x in labels]\n",
    "\n"
   ]
  }
 ],
 "metadata": {
  "kernelspec": {
   "display_name": "Python 2",
   "language": "python",
   "name": "python2"
  },
  "language_info": {
   "codemirror_mode": {
    "name": "ipython",
    "version": 2
   },
   "file_extension": ".py",
   "mimetype": "text/x-python",
   "name": "python",
   "nbconvert_exporter": "python",
   "pygments_lexer": "ipython2",
   "version": "2.7.12"
  }
 },
 "nbformat": 4,
 "nbformat_minor": 2
}
